{
 "cells": [
  {
   "cell_type": "code",
   "execution_count": null,
   "id": "c03baa59-9eaf-41e1-8d10-14d4756cac86",
   "metadata": {},
   "outputs": [],
   "source": [
    "Q1. Explain why we have to use the Exception class while creating a Custom Exception.\n",
    "\n",
    "Note: Here Exception class refers to the base class for all the exceptions.\n",
    "\n",
    "The Exception class in Python is the base class for all built-in exceptions. When creating a custom exception, it is recommended to inherit from the Exception class or one of its subclasses. Here are a few reasons why we use the Exception class as the base class for custom exceptions:\n",
    "\n",
    "   * Consistency and Compatibility: Inheriting from the Exception class ensures that our custom exception is compatible with the existing exception handling mechanisms in Python. It allows us to catch and handle our custom exception using the same exception handling syntax (try-except) that is used for built-in exceptions.\n",
    "\n",
    "   * Hierarchy and Specialization: The exception hierarchy in Python is structured, with more specific exception classes inheriting from more general ones. By inheriting from the Exception class, our custom exception becomes part of this hierarchy and can be used in a similar way to other exceptions. It allows us to catch our custom exception specifically or handle it along with other related exceptions.\n",
    "\n",
    "   * Behavior and Attributes: The Exception class provides certain behaviors and attributes that are useful for handling and processing exceptions. By inheriting from the Exception class, our custom exception can inherit and utilize these behaviors and attributes. For example, we can define custom methods or properties specific to our exception class.\n",
    "\n",
    "Overall, using the Exception class as the base class for custom exceptions ensures consistency, compatibility, and allows our custom exceptions to integrate well with the existing exception handling infrastructure in Python"
   ]
  },
  {
   "cell_type": "code",
   "execution_count": null,
   "id": "6d86f32f-8959-4fb1-9b36-1050a50816ea",
   "metadata": {},
   "outputs": [],
   "source": [
    "Q2. Write a python program to print Python Exception Hierarchy."
   ]
  },
  {
   "cell_type": "code",
   "execution_count": null,
   "id": "a5b4d1f5-bba5-47b3-83f9-7b2f06e9e249",
   "metadata": {},
   "outputs": [],
   "source": [
    "def print_exception_hierarchy(exception_cls, indent=0):\n",
    "    print(' ' * indent + exception_cls.__name__)\n",
    "    for subclass in exception_cls.__subclasses__():\n",
    "        print_exception_hierarchy(subclass, indent + 4)\n",
    "\n",
    "# Print the exception hierarchy starting from the base Exception class\n",
    "print_exception_hierarchy(Exception)"
   ]
  },
  {
   "cell_type": "code",
   "execution_count": null,
   "id": "2116beeb-38af-4ace-9245-6d51acb46c79",
   "metadata": {},
   "outputs": [],
   "source": [
    "Q3. What errors are defined in the ArithmeticError class? Explain any two with an example"
   ]
  },
  {
   "cell_type": "code",
   "execution_count": null,
   "id": "9433762a-f7a8-47e8-b794-a2e6ba4b7348",
   "metadata": {},
   "outputs": [],
   "source": [
    "The ArithmeticError class in Python is the base class for arithmetic-related errors. It represents errors that occur during arithmetic operations. Here are two commonly used errors defined in the ArithmeticError class:\n",
    "\n",
    "    ZeroDivisionError: This error is raised when attempting to divide a number by zero"
   ]
  },
  {
   "cell_type": "code",
   "execution_count": 1,
   "id": "dc360136-5e35-4777-a7e7-6096cde85309",
   "metadata": {},
   "outputs": [
    {
     "name": "stdout",
     "output_type": "stream",
     "text": [
      "Error: division by zero\n"
     ]
    }
   ],
   "source": [
    "try:\n",
    "    result = 10 / 0\n",
    "except ZeroDivisionError as e:\n",
    "    print(\"Error:\", e)\n"
   ]
  },
  {
   "cell_type": "code",
   "execution_count": null,
   "id": "9753bc8e-20c8-4e96-867e-9696fda32a09",
   "metadata": {},
   "outputs": [],
   "source": [
    "   * OverflowError: This error is raised when the result of an arithmetic operation is too large to be represented by the numeric type"
   ]
  },
  {
   "cell_type": "code",
   "execution_count": null,
   "id": "8634ef96-f35a-4b6c-953d-5f007440a6a6",
   "metadata": {},
   "outputs": [],
   "source": [
    "try:\n",
    "    result = 9999999999999999999999999999999999999999999999999999999999999999999999999999 * 9999999999999999999999999999999999999999999999999999999999999999999999999999\n",
    "except OverflowError as e:\n",
    "    print(\"Error:\", e)\n",
    "\n"
   ]
  },
  {
   "cell_type": "code",
   "execution_count": null,
   "id": "b63068bd-fa7f-41a9-befd-89176c1799f0",
   "metadata": {},
   "outputs": [],
   "source": [
    "Q4. Why LookupError class is used? Explain with an example KeyError and IndexError"
   ]
  },
  {
   "cell_type": "code",
   "execution_count": null,
   "id": "e5fc46b2-4504-4713-a99f-cbd47d171c49",
   "metadata": {},
   "outputs": [],
   "source": [
    "The LookupError class in Python is the base class for errors that occur during a lookup or indexing operation. It represents errors related to accessing elements or values using keys or indices. Here are two commonly used errors defined in the LookupError class:\n",
    "\n",
    "KeyError: This error is raised when trying to access a key that does not exist in a dictionary"
   ]
  },
  {
   "cell_type": "code",
   "execution_count": 2,
   "id": "5fed3c86-335f-44d8-8970-4ea9187c211d",
   "metadata": {},
   "outputs": [
    {
     "name": "stdout",
     "output_type": "stream",
     "text": [
      "Error: 'city'\n"
     ]
    }
   ],
   "source": [
    "try:\n",
    "    my_dict = {'name': 'John', 'age': 25}\n",
    "    print(my_dict['city'])\n",
    "except KeyError as e:\n",
    "    print(\"Error:\", e)\n"
   ]
  },
  {
   "cell_type": "code",
   "execution_count": null,
   "id": "0963f0cd-2301-4f49-80bb-a04a6bfbdc46",
   "metadata": {},
   "outputs": [],
   "source": [
    "IndexError: This error is raised when trying to access an index that is out of range in a sequence (such as a list or a string)"
   ]
  },
  {
   "cell_type": "code",
   "execution_count": 3,
   "id": "6c7082f6-fb59-4143-85cb-f022260436a2",
   "metadata": {},
   "outputs": [
    {
     "name": "stdout",
     "output_type": "stream",
     "text": [
      "Error: list index out of range\n"
     ]
    }
   ],
   "source": [
    "try:\n",
    "    my_list = [1, 2, 3]\n",
    "    print(my_list[3])\n",
    "except IndexError as e:\n",
    "    print(\"Error:\", e)"
   ]
  },
  {
   "cell_type": "code",
   "execution_count": null,
   "id": "26815ad6-4386-4f04-9f47-46f3455f50b5",
   "metadata": {},
   "outputs": [],
   "source": [
    "Q5. Explain ImportError. What is ModuleNotFoundError?"
   ]
  },
  {
   "cell_type": "code",
   "execution_count": null,
   "id": "84b74605-27b6-47ca-9482-20800c836555",
   "metadata": {},
   "outputs": [],
   "source": [
    "ImportError is an exception that is raised when an imported module or package cannot be found or loaded. It occurs when there is an issue with importing a module, such as when the module name is misspelled, the module file is not present in the specified location, or there are issues with the module's dependencies.\n",
    "\n",
    "ModuleNotFoundError is a subclass of ImportError that specifically indicates that a module could not be found. It was introduced in Python 3.6 as a more specific and informative error message for cases where a module cannot be located.\n",
    "\n",
    "When an ImportError or ModuleNotFoundError occurs, it typically means that the Python interpreter was unable to locate and import the specified module, which could lead to issues when trying to access functions, classes, or variables defined in that module.\n"
   ]
  },
  {
   "cell_type": "code",
   "execution_count": null,
   "id": "aa9e08d4-dc32-445c-b7aa-8c5105867ea3",
   "metadata": {},
   "outputs": [],
   "source": [
    "Q6. List down some best practices for exception handling in python."
   ]
  },
  {
   "cell_type": "code",
   "execution_count": null,
   "id": "e1e45a5a-6f31-496a-b0e7-42a8290ea594",
   "metadata": {},
   "outputs": [],
   "source": [
    "\n",
    "\n",
    "Here are some best practices for exception handling in Python:\n",
    "\n",
    "    Be specific with exception handling: Catch only the exceptions that you expect and know how to handle. Avoid using a broad except statement that captures all exceptions, as it can make debugging more difficult.\n",
    "\n",
    "    Use multiple except blocks: If you anticipate different types of exceptions, handle them separately using multiple except blocks. This allows you to handle each exception appropriately and provide specific error messages or actions.\n",
    "\n",
    "    Use the finally block: The finally block is used to execute code that should always run, regardless of whether an exception occurred or not. It is useful for releasing resources, closing files, or cleaning up after executing a block of code.\n",
    "\n",
    "    Avoid bare except statements: Avoid using a bare except statement without specifying the exception type. It can hide errors and make debugging challenging. Instead, catch specific exceptions or use a base exception class like Exception if necessary.\n",
    "\n",
    "    Handle exceptions at the right level: Handle exceptions at the appropriate level in your code. This means handling exceptions close to the source of the error where you have the necessary information to handle or log the exception effectively.\n",
    "\n",
    "    Provide meaningful error messages: When raising or catching exceptions, provide informative and meaningful error messages. This helps in understanding the cause of the exception and aids in debugging.\n",
    "\n",
    "    Log exceptions: Consider logging exceptions using a logging library like logging. Logging exceptions can provide valuable information during development and troubleshooting.\n",
    "\n",
    "    Use context managers: Use context managers, such as the with statement, to automatically handle resources like files or database connections. Context managers ensure that resources are properly managed and released, even if an exception occurs.\n",
    "\n",
    "    Reraise exceptions selectively: If you catch an exception but cannot handle it appropriately, you can choose to reraise the exception using the raise statement. This allows the exception to propagate up the call stack for higher-level handlers to handle.\n",
    "\n",
    "    Test exception handling: Write unit tests to verify that your exception handling code behaves as expected. Test both the cases where exceptions are expected to be raised and where they should be handled correctly.\n",
    "\n",
    "By following these best practices, you can write more robust and maintainable code that gracefully handles exceptions and provides meaningful feedback in case of errors.\n"
   ]
  },
  {
   "cell_type": "code",
   "execution_count": null,
   "id": "bf4b8b14-696d-4537-9653-bacce7a1703a",
   "metadata": {},
   "outputs": [],
   "source": []
  },
  {
   "cell_type": "code",
   "execution_count": null,
   "id": "547aff4e-51a9-4d2b-83ac-e2331bd2bf78",
   "metadata": {},
   "outputs": [],
   "source": []
  },
  {
   "cell_type": "code",
   "execution_count": null,
   "id": "ba338d69-fe0a-47fd-a268-e5e19f4a84d1",
   "metadata": {},
   "outputs": [],
   "source": []
  },
  {
   "cell_type": "code",
   "execution_count": null,
   "id": "08ef4845-6455-4768-91df-f432a1717642",
   "metadata": {},
   "outputs": [],
   "source": []
  },
  {
   "cell_type": "code",
   "execution_count": null,
   "id": "d738fb8f-bf03-4958-9908-b92b00e5123f",
   "metadata": {},
   "outputs": [],
   "source": []
  },
  {
   "cell_type": "code",
   "execution_count": null,
   "id": "7488023f-fe08-42e4-8817-d506a29486eb",
   "metadata": {},
   "outputs": [],
   "source": []
  },
  {
   "cell_type": "code",
   "execution_count": null,
   "id": "561c8c74-157c-4e09-8aa7-4ae9823aee38",
   "metadata": {},
   "outputs": [],
   "source": []
  },
  {
   "cell_type": "code",
   "execution_count": null,
   "id": "a8c5a49e-c5cf-4d8d-b56a-bdc4bc77e814",
   "metadata": {},
   "outputs": [],
   "source": []
  },
  {
   "cell_type": "code",
   "execution_count": null,
   "id": "ab830ceb-b929-403a-a2ee-37688cf51476",
   "metadata": {},
   "outputs": [],
   "source": []
  }
 ],
 "metadata": {
  "kernelspec": {
   "display_name": "Python 3 (ipykernel)",
   "language": "python",
   "name": "python3"
  },
  "language_info": {
   "codemirror_mode": {
    "name": "ipython",
    "version": 3
   },
   "file_extension": ".py",
   "mimetype": "text/x-python",
   "name": "python",
   "nbconvert_exporter": "python",
   "pygments_lexer": "ipython3",
   "version": "3.10.8"
  }
 },
 "nbformat": 4,
 "nbformat_minor": 5
}
