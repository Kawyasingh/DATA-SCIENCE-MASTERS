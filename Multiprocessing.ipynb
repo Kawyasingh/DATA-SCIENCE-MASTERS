{
 "cells": [
  {
   "cell_type": "code",
   "execution_count": null,
   "id": "89e149a8-65e9-46c3-bd40-04515becabca",
   "metadata": {},
   "outputs": [],
   "source": [
    "Q1. What is multiprocessing in python? Why is it useful?"
   ]
  },
  {
   "cell_type": "code",
   "execution_count": null,
   "id": "f6745af4-da13-4ea6-830f-a58444d7e7b9",
   "metadata": {},
   "outputs": [],
   "source": [
    "''' In Python, multiprocessing is a module that allows you to create and run multiple processes in parallel, taking advantage of multi-core CPUs and distributing the workload across them. The multiprocessing module is part of the Python standard library, and it provides an easy-to-use and high-level interface for multiprocessing.\n",
    "\n",
    "Multiprocessing is useful for several reasons:\n",
    "\n",
    "    Parallelism: Multiprocessing allows you to run multiple processes simultaneously, each on a separate CPU core, to speed up the execution of CPU-bound tasks.\n",
    "\n",
    "    Resource utilization: Multiprocessing allows you to utilize all the CPU resources available on a machine, thereby maximizing the use of resources and minimizing idle time.\n",
    "\n",
    "    Isolation: Each process runs in its own memory space, which helps to isolate any errors or bugs that may occur in one process from affecting the other processes.\n",
    "\n",
    "    Asynchronous programming: Multiprocessing can be used for asynchronous programming by allowing you to run multiple processes concurrently, each performing its own set of tasks and communicating with each other through various inter-process communication mechanisms.\n",
    "\n",
    "Overall, multiprocessing in Python is a powerful and flexible tool that can help you to scale your applications and take advantage of the full potential of modern hardware. However, it's important to note that multiprocessing comes with some overhead and additional complexity, so it's not always the best solution for every problem. You should always weigh the benefits of multiprocessing against its costs and complexity before deciding to use it in your projects.'''"
   ]
  },
  {
   "cell_type": "code",
   "execution_count": null,
   "id": "1a14b63b-a9db-47b4-a67d-3492e013da29",
   "metadata": {},
   "outputs": [],
   "source": [
    "Q2. What are the differences between multiprocessing and multithreading?"
   ]
  },
  {
   "cell_type": "code",
   "execution_count": null,
   "id": "ff1b25f5-50d2-47fe-adaf-6d4b76fe7539",
   "metadata": {},
   "outputs": [],
   "source": [
    "''' Multiprocessing and multithreading are both techniques for achieving parallelism in computer programs, but they differ in several ways. Here are some of the main differences:\n",
    "\n",
    "    Processes vs. threads: In multiprocessing, multiple processes are created, each with its own memory space, while in multithreading, multiple threads are created within a single process, all sharing the same memory space.\n",
    "\n",
    "    Concurrency vs. Parallelism: Multithreading achieves concurrency by interleaving the execution of multiple threads within the same process, whereas multiprocessing achieves true parallelism by executing multiple processes simultaneously across multiple CPUs or CPU cores.\n",
    "\n",
    "    Memory isolation: Processes in multiprocessing are isolated from each other and do not share memory, while threads in multithreading share the same memory space and can access the same variables and data structures.\n",
    "\n",
    "    Overhead: Creating and managing processes in multiprocessing incurs a higher overhead than creating and managing threads in multithreading, due to the need for inter-process communication and synchronization mechanisms.\n",
    "\n",
    "    Fault tolerance: Because each process in multiprocessing runs in its own memory space, errors or bugs in one process are isolated from other processes, making multiprocessing more fault-tolerant than multithreading.\n",
    "\n",
    "Overall, multiprocessing and multithreading have different trade-offs in terms of performance, resource utilization, and programming complexity. The choice between them depends on the specific requirements of the program and the available hardware resources. In general, multiprocessing is better suited for CPU-bound tasks that can be easily parallelized, while multithreading is better suited for I/O-bound tasks that can benefit from concurrent execution. '''\n"
   ]
  },
  {
   "cell_type": "code",
   "execution_count": null,
   "id": "71da2d36-a045-4689-9cbf-f95d9c787edf",
   "metadata": {},
   "outputs": [],
   "source": [
    "Q3. Write a python code to create a process using the multiprocessing module."
   ]
  },
  {
   "cell_type": "code",
   "execution_count": null,
   "id": "68c39cab-9c11-4ebe-96c9-693254325ecc",
   "metadata": {},
   "outputs": [],
   "source": [
    "Here is an example Python code that creates a process using the multiprocessing module"
   ]
  },
  {
   "cell_type": "code",
   "execution_count": null,
   "id": "49216053-ccf2-4cc5-aa60-e8d900923de2",
   "metadata": {},
   "outputs": [],
   "source": [
    "import multiprocessing\n",
    "\n",
    "def my_process():\n",
    "    \"\"\"Function to run in the new process\"\"\"\n",
    "    print(\"Starting new process\")\n",
    "    # Do some work here\n",
    "    print(\"Ending new process\")\n",
    "\n",
    "if __name__ == '__main__':\n",
    "    # Create a new process\n",
    "    p = multiprocessing.Process(target=my_process)\n",
    "    # Start the process\n",
    "    p.start()\n",
    "    # Wait for the process to finish\n",
    "    p.join()"
   ]
  },
  {
   "cell_type": "code",
   "execution_count": null,
   "id": "4f63aa96-4622-4c5d-a9d1-f9709b890885",
   "metadata": {},
   "outputs": [],
   "source": [
    "''' In this code, the my_process() function is defined to represent the work to be done in the new process. The multiprocessing.Process() class is then used to create a new process, with the target argument set to the my_process() function.\n",
    "\n",
    "The start() method is called on the new process object to begin the process, and the join() method is called to wait for the process to finish before the main program continues.\n",
    "\n",
    "Note that the if name == 'main': statement is used to ensure that the code inside it is only executed when the script is run directly, and not when it is imported as a module. This is a common practice when using the multiprocessing module.\n",
    "\n",
    "This is just a simple example, but the multiprocessing module can be used to create much more complex and powerful multiprocessing applications. ''"
   ]
  },
  {
   "cell_type": "code",
   "execution_count": null,
   "id": "4b84f7a7-cc84-4373-9c51-21b31e6e4885",
   "metadata": {},
   "outputs": [],
   "source": [
    "Q4. What is a multiprocessing pool in python? Why is it used?"
   ]
  },
  {
   "cell_type": "code",
   "execution_count": null,
   "id": "d8c2c6c4-8b7c-4347-a707-2715b2d1b70f",
   "metadata": {},
   "outputs": [],
   "source": [
    "In Python's multiprocessing module, a multiprocessing pool is a way to manage a group of worker processes that can execute tasks in parallel. A pool is created with a specified number of worker processes, and tasks can be submitted to the pool to be executed by the next available worker.\n",
    "\n",
    "Here's an example of how to use a multiprocessing pool in Python:\n"
   ]
  },
  {
   "cell_type": "code",
   "execution_count": null,
   "id": "f1a5897f-65bc-4dcb-9f11-4a7f0329245c",
   "metadata": {},
   "outputs": [],
   "source": [
    "import multiprocessing\n",
    "\n",
    "def process_task(task):\n",
    "    \"\"\"Function to be executed by worker processes\"\"\"\n",
    "    result = do_something_with_task(task)\n",
    "    return result\n",
    "\n",
    "if __name__ == '__main__':\n",
    "    # create a pool of 4 worker processes\n",
    "    with multiprocessing.Pool(4) as pool:\n",
    "        # submit some tasks to the pool\n",
    "        results = pool.map(process_task, tasks)\n",
    "        # do something with the results"
   ]
  },
  {
   "cell_type": "code",
   "execution_count": null,
   "id": "1aabcf13-1242-44a7-bd2e-7fe82d8b14fa",
   "metadata": {},
   "outputs": [],
   "source": [
    "In this example, a pool of 4 worker processes is created using the multiprocessing.Pool class. The process_task function represents the work to be done by each worker process, and takes a single argument representing a task to be processed. The map method is then used to submit a list of tasks to the pool and execute them in parallel across the worker processes. The results of each task are collected into a list of results.\n",
    "\n",
    "Using a multiprocessing pool can provide significant performance benefits in situations where many independent tasks need to be executed in parallel. By distributing the work across multiple worker processes, the overall processing time can be reduced, especially when the tasks are CPU-bound.\n",
    "\n",
    "One important consideration when using a multiprocessing pool is that there is some overhead involved in creating and managing the worker processes, so using a pool may not always be the most efficient approach. Additionally, because each worker process has its own memory space, there may be some additional complexity involved in coordinating the sharing of data between processes"
   ]
  },
  {
   "cell_type": "code",
   "execution_count": null,
   "id": "9d1122a5-cbf1-47a3-a710-57029439e989",
   "metadata": {},
   "outputs": [],
   "source": [
    "Q5. How can we create a pool of worker processes in python using the multiprocessing module?"
   ]
  },
  {
   "cell_type": "code",
   "execution_count": null,
   "id": "ad5bc071-5bfb-4222-9efc-6437e7fd7e65",
   "metadata": {},
   "outputs": [],
   "source": [
    "In Python's multiprocessing module, we can create a pool of worker processes using the Pool class. Here's an example code that demonstrates how to create a pool of worker processes and use it to execute tasks in parallel"
   ]
  },
  {
   "cell_type": "code",
   "execution_count": null,
   "id": "cfc1fd0f-c9d6-4a47-9429-149a9f133c0a",
   "metadata": {},
   "outputs": [],
   "source": [
    "import multiprocessing\n",
    "\n",
    "def process_task(task):\n",
    "    \"\"\"Function to be executed by worker processes\"\"\"\n",
    "    result = do_something_with_task(task)\n",
    "    return result\n",
    "\n",
    "if __name__ == '__main__':\n",
    "    # create a pool of 4 worker processes\n",
    "    with multiprocessing.Pool(4) as pool:\n",
    "        # submit some tasks to the pool\n",
    "        results = pool.map(process_task, tasks)\n",
    "        # do something with the results"
   ]
  },
  {
   "cell_type": "code",
   "execution_count": null,
   "id": "41ecf9ef-1ac1-4587-ba44-9b9db9f49ed9",
   "metadata": {},
   "outputs": [],
   "source": [
    "In this example, we create a Pool object with four worker processes, and use it to execute a function called process_task on a list of tasks. The map method is used to apply the process_task function to each task in the list, in parallel across the worker processes. The with statement is used to automatically close the pool when it is no longer needed.\n",
    "\n",
    "The Pool class provides several other methods for submitting tasks to the pool, such as apply, apply_async, and imap, each with different behavior and performance characteristics. The choice of which method to use depends on the specific requirements of the application.\n",
    "\n",
    "Using a multiprocessing pool can be an effective way to distribute work across multiple worker processes and improve performance for CPU-bound tasks. However, it is important to carefully manage the creation and destruction of worker processes to avoid excessive overhead, and to ensure that data is properly shared and synchronized between processes when necessary"
   ]
  },
  {
   "cell_type": "code",
   "execution_count": null,
   "id": "7b661457-a173-466a-999d-222ac9bc3f9b",
   "metadata": {},
   "outputs": [],
   "source": [
    "Q6. Write a python program to create 4 processes, each process should print a different number using the multiprocessing module in python"
   ]
  },
  {
   "cell_type": "code",
   "execution_count": null,
   "id": "3a3c9920-15d4-44e2-92c4-d5081bcb5b0f",
   "metadata": {},
   "outputs": [],
   "source": [
    "Here's an example code that creates 4 processes, each process prints a different number using the multiprocessing module in Python:"
   ]
  },
  {
   "cell_type": "code",
   "execution_count": 1,
   "id": "8eff8489-d578-425f-ba3b-32c9704a23bb",
   "metadata": {},
   "outputs": [
    {
     "name": "stdout",
     "output_type": "stream",
     "text": [
      "1243\n",
      "\n",
      "\n",
      "\n"
     ]
    }
   ],
   "source": [
    "import multiprocessing\n",
    "\n",
    "def print_number(num):\n",
    "    \"\"\"Function to be executed by a worker process\"\"\"\n",
    "    print(num)\n",
    "\n",
    "if __name__ == '__main__':\n",
    "    # create 4 processes\n",
    "    with multiprocessing.Pool(4) as pool:\n",
    "        pool.map(print_number, [1, 2, 3, 4])"
   ]
  },
  {
   "cell_type": "code",
   "execution_count": null,
   "id": "efb22d33-0177-4354-8fad-f7c8ab5bf36c",
   "metadata": {},
   "outputs": [],
   "source": []
  },
  {
   "cell_type": "code",
   "execution_count": null,
   "id": "048aef05-1652-4362-a4f3-e7789c283db0",
   "metadata": {},
   "outputs": [],
   "source": []
  },
  {
   "cell_type": "code",
   "execution_count": null,
   "id": "16674dd2-9160-4278-b5cc-09480f08f87f",
   "metadata": {},
   "outputs": [],
   "source": []
  },
  {
   "cell_type": "code",
   "execution_count": null,
   "id": "f7fe8f45-a76b-4094-926c-4afa4aff64dd",
   "metadata": {},
   "outputs": [],
   "source": []
  },
  {
   "cell_type": "code",
   "execution_count": null,
   "id": "83934027-98e5-4438-a9b8-121a9f1a36b7",
   "metadata": {},
   "outputs": [],
   "source": []
  },
  {
   "cell_type": "code",
   "execution_count": null,
   "id": "6913b49d-2d2b-453b-92b7-b066fca7deba",
   "metadata": {},
   "outputs": [],
   "source": []
  },
  {
   "cell_type": "code",
   "execution_count": null,
   "id": "1a3c8307-2d42-485e-bda7-21075ccce746",
   "metadata": {},
   "outputs": [],
   "source": []
  },
  {
   "cell_type": "code",
   "execution_count": null,
   "id": "420bd6ef-4491-4d9e-941c-789a51813a16",
   "metadata": {},
   "outputs": [],
   "source": []
  },
  {
   "cell_type": "code",
   "execution_count": null,
   "id": "8aa3c6bc-3951-4566-a358-08bc69d6f351",
   "metadata": {},
   "outputs": [],
   "source": []
  },
  {
   "cell_type": "code",
   "execution_count": null,
   "id": "fa861446-2ca6-425a-829b-9e3c3fc6924c",
   "metadata": {},
   "outputs": [],
   "source": []
  },
  {
   "cell_type": "code",
   "execution_count": null,
   "id": "d8cd07bd-5ab3-4967-b768-883f9c074b74",
   "metadata": {},
   "outputs": [],
   "source": []
  },
  {
   "cell_type": "code",
   "execution_count": null,
   "id": "ddecd012-a51e-4912-a31f-4bffde00084f",
   "metadata": {},
   "outputs": [],
   "source": []
  },
  {
   "cell_type": "code",
   "execution_count": null,
   "id": "0c2e92c9-d897-4119-a44c-9fa08e712dcb",
   "metadata": {},
   "outputs": [],
   "source": []
  },
  {
   "cell_type": "code",
   "execution_count": null,
   "id": "deaf3d8f-5890-4361-98f0-6259bb94a714",
   "metadata": {},
   "outputs": [],
   "source": []
  },
  {
   "cell_type": "code",
   "execution_count": null,
   "id": "141cbd06-d106-4f67-9eb8-f921dc2e9473",
   "metadata": {},
   "outputs": [],
   "source": []
  },
  {
   "cell_type": "code",
   "execution_count": null,
   "id": "112cd654-587a-4882-a9a5-9e7aa9eafd08",
   "metadata": {},
   "outputs": [],
   "source": []
  },
  {
   "cell_type": "code",
   "execution_count": null,
   "id": "23ef520f-51c4-4b79-8b1f-bb6095b8c506",
   "metadata": {},
   "outputs": [],
   "source": []
  },
  {
   "cell_type": "code",
   "execution_count": null,
   "id": "ff00d2f2-438f-495e-ade7-a1b1b9d27d1e",
   "metadata": {},
   "outputs": [],
   "source": []
  },
  {
   "cell_type": "code",
   "execution_count": null,
   "id": "15424e38-fd76-41fa-b32e-fa900b8a11dc",
   "metadata": {},
   "outputs": [],
   "source": []
  },
  {
   "cell_type": "code",
   "execution_count": null,
   "id": "9cd481b9-13b5-443e-a968-6acf12ef2165",
   "metadata": {},
   "outputs": [],
   "source": []
  },
  {
   "cell_type": "code",
   "execution_count": null,
   "id": "ba8d5bb1-3eec-41df-8335-7a6ab5516567",
   "metadata": {},
   "outputs": [],
   "source": []
  },
  {
   "cell_type": "code",
   "execution_count": null,
   "id": "a4ae736f-9bdc-4883-91a2-10e46c996cc7",
   "metadata": {},
   "outputs": [],
   "source": []
  },
  {
   "cell_type": "code",
   "execution_count": null,
   "id": "73d86585-0836-4edc-b311-e91544311ea4",
   "metadata": {},
   "outputs": [],
   "source": []
  },
  {
   "cell_type": "code",
   "execution_count": null,
   "id": "e9880e86-79e7-4d6e-86ad-232f7ac33742",
   "metadata": {},
   "outputs": [],
   "source": []
  },
  {
   "cell_type": "code",
   "execution_count": null,
   "id": "95e0b232-3562-49c2-b2b6-d5dfc3b83af0",
   "metadata": {},
   "outputs": [],
   "source": []
  },
  {
   "cell_type": "code",
   "execution_count": null,
   "id": "b8b4d328-093d-4aba-a9a0-b90e507d0d5b",
   "metadata": {},
   "outputs": [],
   "source": []
  },
  {
   "cell_type": "code",
   "execution_count": null,
   "id": "32145944-cbbc-4192-90a8-fb233f24e8c7",
   "metadata": {},
   "outputs": [],
   "source": []
  },
  {
   "cell_type": "code",
   "execution_count": null,
   "id": "9d22e8b8-a2df-43b2-85ca-15b268e86c1e",
   "metadata": {},
   "outputs": [],
   "source": []
  },
  {
   "cell_type": "code",
   "execution_count": null,
   "id": "4f6a1a26-aaa5-42b7-b30d-2c5b5f57406f",
   "metadata": {},
   "outputs": [],
   "source": []
  },
  {
   "cell_type": "code",
   "execution_count": null,
   "id": "58b33180-4ca4-4a9c-8031-20b5c95c4b47",
   "metadata": {},
   "outputs": [],
   "source": []
  },
  {
   "cell_type": "code",
   "execution_count": null,
   "id": "45e6a45f-51f0-4ec6-a134-753df2b7a006",
   "metadata": {},
   "outputs": [],
   "source": []
  },
  {
   "cell_type": "code",
   "execution_count": null,
   "id": "5523a5b9-a5a1-41f1-a2a7-2de56e651bb9",
   "metadata": {},
   "outputs": [],
   "source": []
  },
  {
   "cell_type": "code",
   "execution_count": null,
   "id": "1e4a4c90-898e-4145-bc07-9445a38e80a4",
   "metadata": {},
   "outputs": [],
   "source": []
  },
  {
   "cell_type": "code",
   "execution_count": null,
   "id": "0121af7b-dfa5-4bdf-b75a-eedfede53b49",
   "metadata": {},
   "outputs": [],
   "source": []
  },
  {
   "cell_type": "code",
   "execution_count": null,
   "id": "485f90c6-b9f6-474c-9353-8e82a9c090be",
   "metadata": {},
   "outputs": [],
   "source": []
  },
  {
   "cell_type": "code",
   "execution_count": null,
   "id": "5636584f-56ed-48a2-8ee1-bcac0e5bc4eb",
   "metadata": {},
   "outputs": [],
   "source": []
  },
  {
   "cell_type": "code",
   "execution_count": null,
   "id": "3e1052d7-031d-4023-9587-314d3d50cbd8",
   "metadata": {},
   "outputs": [],
   "source": []
  },
  {
   "cell_type": "code",
   "execution_count": null,
   "id": "59e7750f-3ee1-4fb4-9040-23acbaeed2e9",
   "metadata": {},
   "outputs": [],
   "source": []
  },
  {
   "cell_type": "code",
   "execution_count": null,
   "id": "15b929b1-32c7-455c-95c0-9633e12bc1bd",
   "metadata": {},
   "outputs": [],
   "source": []
  },
  {
   "cell_type": "code",
   "execution_count": null,
   "id": "e2e07d1e-5a13-4dff-9b5f-386fb975db1b",
   "metadata": {},
   "outputs": [],
   "source": []
  },
  {
   "cell_type": "code",
   "execution_count": null,
   "id": "ba88fd2e-90f8-48de-8afb-34d1da87b3bc",
   "metadata": {},
   "outputs": [],
   "source": []
  },
  {
   "cell_type": "code",
   "execution_count": null,
   "id": "adace5cc-a994-4906-b844-0f07e0b14e4e",
   "metadata": {},
   "outputs": [],
   "source": []
  },
  {
   "cell_type": "code",
   "execution_count": null,
   "id": "cffa7f7e-5322-4ce4-877b-5d223c8e99c6",
   "metadata": {},
   "outputs": [],
   "source": []
  },
  {
   "cell_type": "code",
   "execution_count": null,
   "id": "536f1223-6a36-42a3-baeb-318d305bc470",
   "metadata": {},
   "outputs": [],
   "source": []
  },
  {
   "cell_type": "code",
   "execution_count": null,
   "id": "2a6e6be4-c0d4-457a-b443-bfcbc42bb8a9",
   "metadata": {},
   "outputs": [],
   "source": []
  },
  {
   "cell_type": "code",
   "execution_count": null,
   "id": "61fe5e14-7d99-4506-b5b7-e48bc81af060",
   "metadata": {},
   "outputs": [],
   "source": []
  },
  {
   "cell_type": "code",
   "execution_count": null,
   "id": "b05cbf52-7f07-43d1-b114-6f2194613e2f",
   "metadata": {},
   "outputs": [],
   "source": []
  },
  {
   "cell_type": "code",
   "execution_count": null,
   "id": "9cf3fb0c-5d9e-478f-93ee-4dd4361dce06",
   "metadata": {},
   "outputs": [],
   "source": []
  },
  {
   "cell_type": "code",
   "execution_count": null,
   "id": "addf3f00-817f-4499-9175-c08e5dd56aaa",
   "metadata": {},
   "outputs": [],
   "source": []
  },
  {
   "cell_type": "code",
   "execution_count": null,
   "id": "25e9de5c-022f-412f-81e8-b7d5f61aacff",
   "metadata": {},
   "outputs": [],
   "source": []
  },
  {
   "cell_type": "code",
   "execution_count": null,
   "id": "46eecc46-7dfb-44ec-b536-682033e61112",
   "metadata": {},
   "outputs": [],
   "source": []
  },
  {
   "cell_type": "code",
   "execution_count": null,
   "id": "e74141a4-9a0b-4ca6-aa89-d0102a682798",
   "metadata": {},
   "outputs": [],
   "source": []
  }
 ],
 "metadata": {
  "kernelspec": {
   "display_name": "Python 3 (ipykernel)",
   "language": "python",
   "name": "python3"
  },
  "language_info": {
   "codemirror_mode": {
    "name": "ipython",
    "version": 3
   },
   "file_extension": ".py",
   "mimetype": "text/x-python",
   "name": "python",
   "nbconvert_exporter": "python",
   "pygments_lexer": "ipython3",
   "version": "3.10.8"
  }
 },
 "nbformat": 4,
 "nbformat_minor": 5
}
