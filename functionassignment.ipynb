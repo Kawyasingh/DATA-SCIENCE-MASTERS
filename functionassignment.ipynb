{
 "cells": [
  {
   "cell_type": "code",
   "execution_count": null,
   "id": "e14ebf24-13e3-4dc3-bbc4-a442daff7093",
   "metadata": {},
   "outputs": [],
   "source": [
    "#Q1. Which keyword is used to create a function? Create a function to return a list of odd numbers in the range of 1 to 25."
   ]
  },
  {
   "cell_type": "code",
   "execution_count": null,
   "id": "2f701280-cb96-4468-98e8-787bf38bc83b",
   "metadata": {},
   "outputs": [],
   "source": [
    "#A) For creating a function in python, we use def keyword to begin a function"
   ]
  },
  {
   "cell_type": "code",
   "execution_count": 5,
   "id": "84bc8a6b-173b-40c6-b510-e00cc9a8f0bc",
   "metadata": {},
   "outputs": [],
   "source": [
    "a = list(range(25))"
   ]
  },
  {
   "cell_type": "code",
   "execution_count": 6,
   "id": "ed80c751-6100-44d2-83cd-5b27384374ad",
   "metadata": {},
   "outputs": [],
   "source": [
    "def odd_num (n):\n",
    "    a1=[]\n",
    "    for i in range(25):\n",
    "        if i%3==0:\n",
    "            a1.append(i)\n",
    "    return(a1)"
   ]
  },
  {
   "cell_type": "code",
   "execution_count": 7,
   "id": "ffaca043-5743-4ee5-ade5-c61851a54368",
   "metadata": {},
   "outputs": [
    {
     "data": {
      "text/plain": [
       "[0, 3, 6, 9, 12, 15, 18, 21, 24]"
      ]
     },
     "execution_count": 7,
     "metadata": {},
     "output_type": "execute_result"
    }
   ],
   "source": [
    "odd_num (a)"
   ]
  },
  {
   "cell_type": "code",
   "execution_count": null,
   "id": "0125e17d-e8e0-4a25-a11e-c303758c2031",
   "metadata": {},
   "outputs": [],
   "source": [
    "#Q2. Why *args and **kwargs is used in some functions? Create a function each for *args and **kwargs to demonstrate their use.\n",
    "#a)  The *args is used to pass a variable number of non-keyword arguments to a function while **kwargs is used to pass a variable nu"
   ]
  },
  {
   "cell_type": "code",
   "execution_count": 10,
   "id": "5e95e8b0-2ed5-4af2-aea0-5b04692e224e",
   "metadata": {},
   "outputs": [],
   "source": [
    "#Example prog. using *args\n",
    "def my_function (*args) :\n",
    "  for arg in args:\n",
    "    print(arg)"
   ]
  },
  {
   "cell_type": "code",
   "execution_count": 11,
   "id": "02bbb511-6d00-42e3-8bb2-a1f0eacb53bc",
   "metadata": {},
   "outputs": [
    {
     "name": "stdout",
     "output_type": "stream",
     "text": [
      "Hello\n",
      "World\n",
      "!\n"
     ]
    }
   ],
   "source": [
    "my_function(\"Hello\", \"World\", \"!\")"
   ]
  },
  {
   "cell_type": "code",
   "execution_count": 14,
   "id": "e3f6f438-cae2-4284-8731-343f2067936e",
   "metadata": {},
   "outputs": [],
   "source": [
    "#Example prog. for *kwargs\n",
    "def my_function2 (**kwargs):\n",
    "  for key, value in kwargs.items():\n",
    "    print (f\"{key} = {value}\")"
   ]
  },
  {
   "cell_type": "code",
   "execution_count": 15,
   "id": "e2fcfefc-da6d-474f-b637-7fced6814684",
   "metadata": {},
   "outputs": [
    {
     "name": "stdout",
     "output_type": "stream",
     "text": [
      "first = Hello\n",
      "mid = World\n",
      "last = !\n"
     ]
    }
   ],
   "source": [
    "my_function2 (first=\"Hello\", mid=\"World\", last=\"!\")"
   ]
  },
  {
   "cell_type": "code",
   "execution_count": null,
   "id": "ee04080f-d6a5-45a8-94c4-522adb8bde92",
   "metadata": {},
   "outputs": [],
   "source": [
    "#Q3. What is an iterator in python? Name the method used to initialise the iterator object and the method used for iteration. Use these methods to print the first five elements of the given list [2, 4, 6, 8, 10, 12, 14, 16, 18, 20].\n",
    "#A) Iterator in python is an object that is used to iterate over iterable objects like lists, tuples, dicts, and sets. The iterator obj"
   ]
  },
  {
   "cell_type": "code",
   "execution_count": 16,
   "id": "97572c0a-f164-4a2c-8d38-95c0535ae6e9",
   "metadata": {},
   "outputs": [
    {
     "name": "stdout",
     "output_type": "stream",
     "text": [
      "2\n",
      "4\n",
      "6\n",
      "8\n",
      "10\n"
     ]
    }
   ],
   "source": [
    "a=[2, 4, 6, 8, 10, 12, 14,16, 18, 20]\n",
    "a1_iter=iter(a)\n",
    "\n",
    "print(next(a1_iter))\n",
    "print(next(a1_iter))\n",
    "print(next(a1_iter))\n",
    "print(next(a1_iter))\n",
    "print(next(a1_iter))"
   ]
  },
  {
   "cell_type": "code",
   "execution_count": null,
   "id": "7801f615-ace3-468e-8fb4-9006df8f2628",
   "metadata": {},
   "outputs": [],
   "source": [
    "#Q4. What is a generator function in python? Why yield keyword is used? Give an example of a generator function."
   ]
  },
  {
   "cell_type": "code",
   "execution_count": null,
   "id": "c9b6414e-3049-4ab5-8e70-61882f2f3f9a",
   "metadata": {},
   "outputs": [],
   "source": [
    "#A) In Python, a generator function is a function that uses the yield keyword instead of return to return a generator object. A generator is an iterator that produces a sequence of values on-the-fly as you iterate over it, instead of storing all the values in memory at once1\n",
    "\n",
    "#2)The yield keyword is used in generator functions in Python to produce a sequence of values that can be iterated over."
   ]
  },
  {
   "cell_type": "code",
   "execution_count": 19,
   "id": "1705620c-2926-48a4-846b-313d05e9e0e2",
   "metadata": {},
   "outputs": [],
   "source": [
    "#Example of Generator Function\n",
    "\n",
    "def a (n):\n",
    "    a,b=0,1\n",
    "    for i in range(n):\n",
    "        yield a\n",
    "        a,b=b,a+b"
   ]
  },
  {
   "cell_type": "code",
   "execution_count": 20,
   "id": "791c7feb-2bc8-4341-954a-d482b025a3fc",
   "metadata": {},
   "outputs": [
    {
     "name": "stdout",
     "output_type": "stream",
     "text": [
      "0\n",
      "1\n",
      "1\n",
      "2\n",
      "3\n",
      "5\n",
      "8\n",
      "13\n",
      "21\n",
      "34\n"
     ]
    }
   ],
   "source": [
    "for i  in a (10):\n",
    "    print (i)"
   ]
  },
  {
   "cell_type": "code",
   "execution_count": null,
   "id": "04715e5c-341d-4473-94c5-081054a8a812",
   "metadata": {},
   "outputs": [],
   "source": [
    "#Q5. Create a generator function for prime numbers less than 1000. Use the next() method to print the first 20 prime numbers."
   ]
  },
  {
   "cell_type": "code",
   "execution_count": 23,
   "id": "3459794b-db3d-4a98-9565-248f8a16faf6",
   "metadata": {},
   "outputs": [],
   "source": [
    "def pr_numb ():\n",
    "    num = 2\n",
    "    while True:\n",
    "        for i in range(2, num):\n",
    "            if num % i == 0:\n",
    "                break\n",
    "        else:\n",
    "            yield num\n",
    "        num += 1"
   ]
  },
  {
   "cell_type": "code",
   "execution_count": 24,
   "id": "fbfa4413-5a76-408b-972d-29cc30a56039",
   "metadata": {},
   "outputs": [
    {
     "name": "stdout",
     "output_type": "stream",
     "text": [
      "2\n",
      "3\n",
      "5\n",
      "7\n",
      "11\n",
      "13\n",
      "17\n",
      "19\n",
      "23\n",
      "29\n",
      "31\n",
      "37\n",
      "41\n",
      "43\n",
      "47\n",
      "53\n",
      "59\n",
      "61\n",
      "67\n",
      "71\n"
     ]
    }
   ],
   "source": [
    "prime = pr_numb()\n",
    "for i in range (20):\n",
    "    print (next(prime))"
   ]
  },
  {
   "cell_type": "code",
   "execution_count": null,
   "id": "463b8854-a3a4-46b9-95ae-6b0340f72b77",
   "metadata": {},
   "outputs": [],
   "source": []
  },
  {
   "cell_type": "code",
   "execution_count": null,
   "id": "7cf593a9-9539-4de7-b5b1-1c443c916ecc",
   "metadata": {},
   "outputs": [],
   "source": []
  },
  {
   "cell_type": "code",
   "execution_count": null,
   "id": "5ee7c896-1866-4577-9df3-3db5e89650be",
   "metadata": {},
   "outputs": [],
   "source": []
  },
  {
   "cell_type": "code",
   "execution_count": null,
   "id": "cd1790a2-07b5-4276-85f7-01da3f9f3bd2",
   "metadata": {},
   "outputs": [],
   "source": []
  }
 ],
 "metadata": {
  "kernelspec": {
   "display_name": "Python 3 (ipykernel)",
   "language": "python",
   "name": "python3"
  },
  "language_info": {
   "codemirror_mode": {
    "name": "ipython",
    "version": 3
   },
   "file_extension": ".py",
   "mimetype": "text/x-python",
   "name": "python",
   "nbconvert_exporter": "python",
   "pygments_lexer": "ipython3",
   "version": "3.10.8"
  }
 },
 "nbformat": 4,
 "nbformat_minor": 5
}
