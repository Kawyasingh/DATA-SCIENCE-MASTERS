{
 "cells": [
  {
   "cell_type": "code",
   "execution_count": null,
   "id": "f8410bf6-c708-4f33-89b9-bf25b15e86de",
   "metadata": {},
   "outputs": [],
   "source": [
    "#Q1, Create a vehicle class with an init method having instance variables as name_of_vehicle, max_speed and average_of_vehicle."
   ]
  },
  {
   "cell_type": "code",
   "execution_count": 2,
   "id": "ea2f0a04-907e-402e-b30b-7f5284016e09",
   "metadata": {},
   "outputs": [],
   "source": [
    "class vehicle:\n",
    "    def __init__(self, name_of_vehicle, max_speed, avg_of_vehicle):\n",
    "        self.name_of_vehicle=name_of_vehicle\n",
    "        self.max_speed=max_speed\n",
    "        self.avg_of_vehicle=avg_of_vehicle\n",
    "    \n",
    "    def get_details(self):\n",
    "        print(self.name_of_vehicle, self.max_speed, self.avg_of_vehicle)"
   ]
  },
  {
   "cell_type": "code",
   "execution_count": 3,
   "id": "b2bfe9e6-1bbc-4fa5-b3c1-9ad19b659e70",
   "metadata": {},
   "outputs": [],
   "source": [
    "pwcar=vehicle('BMW', 440, 35)"
   ]
  },
  {
   "cell_type": "code",
   "execution_count": 4,
   "id": "4310d0c4-3fcd-4687-ac0d-0f616e0cbc55",
   "metadata": {},
   "outputs": [
    {
     "name": "stdout",
     "output_type": "stream",
     "text": [
      "BMW 440 35\n"
     ]
    }
   ],
   "source": [
    "pwcar.get_details()"
   ]
  },
  {
   "cell_type": "code",
   "execution_count": null,
   "id": "78869193-7b4a-46b9-9857-d27f4a24d6a3",
   "metadata": {},
   "outputs": [],
   "source": [
    "#Q2. Create a child class car from the vehicle class created in Que 1, which will inherit the vehicle class.Create a method named seating_capacity which takes capacity as an argument and returns the name of the vehicle and its seating capacity."
   ]
  },
  {
   "cell_type": "code",
   "execution_count": 45,
   "id": "5c3e7030-9f62-4e0d-9f81-c0df0223d536",
   "metadata": {},
   "outputs": [],
   "source": [
    "class vehicle:\n",
    "    def __init__(self,name,capacity):\n",
    "        self.name=name\n",
    "        self.capacity=capacity\n",
    "    def get_details(self):\n",
    "        print(self.name, 'has the seating capacity of' ,  self.capacity )"
   ]
  },
  {
   "cell_type": "code",
   "execution_count": 46,
   "id": "b0afb519-8ca0-43bf-bfe0-3d584af1b708",
   "metadata": {},
   "outputs": [],
   "source": [
    "class car (vehicle):\n",
    "    pass"
   ]
  },
  {
   "cell_type": "code",
   "execution_count": 47,
   "id": "7ff2701e-72a5-43c5-80c9-16ae869ae71f",
   "metadata": {},
   "outputs": [],
   "source": [
    "car_details=car( 'Mercedes-Benz A-Class', 5 )"
   ]
  },
  {
   "cell_type": "code",
   "execution_count": 48,
   "id": "717f3f4a-d587-49f7-b473-448619d6fb8b",
   "metadata": {},
   "outputs": [
    {
     "name": "stdout",
     "output_type": "stream",
     "text": [
      "Mercedes-Benz A-Class has the seating capacity of 5\n"
     ]
    }
   ],
   "source": [
    "car_details.get_details()"
   ]
  },
  {
   "cell_type": "code",
   "execution_count": null,
   "id": "5bc2a46f-917d-440b-b850-4e35435b8825",
   "metadata": {},
   "outputs": [],
   "source": [
    "#Q3. What is multiple inheritance? Write a python code to demonstrate multiple inheritance."
   ]
  },
  {
   "cell_type": "code",
   "execution_count": null,
   "id": "8f9450aa-9ef9-4480-86a0-1e7fb3be85b0",
   "metadata": {},
   "outputs": [],
   "source": [
    "#A) Multiple Inheritance allows us to create a new class that has all the features of two or more base classes. This means that we can create a new class that has all the methods and properties of both the base classes"
   ]
  },
  {
   "cell_type": "code",
   "execution_count": 74,
   "id": "2904f0f1-46e7-4580-9a95-0a5f6ce2d6aa",
   "metadata": {},
   "outputs": [],
   "source": [
    "class math:\n",
    "    def math_class(self):\n",
    "        return 'This is my math class'"
   ]
  },
  {
   "cell_type": "code",
   "execution_count": 91,
   "id": "a9bc83cc-df73-43a8-b760-1bf84ac9f197",
   "metadata": {},
   "outputs": [],
   "source": [
    "class science:\n",
    "    def science_class(self):\n",
    "        return 'This is my science class'"
   ]
  },
  {
   "cell_type": "code",
   "execution_count": 92,
   "id": "c7f54b91-cf0a-49af-846e-bbf8b6a1e17c",
   "metadata": {},
   "outputs": [],
   "source": [
    "class class_access(math, science):\n",
    "    pass"
   ]
  },
  {
   "cell_type": "code",
   "execution_count": 93,
   "id": "4d7f946f-f7e0-46cc-b191-691cc97ee0e1",
   "metadata": {},
   "outputs": [],
   "source": [
    "school = class_access()"
   ]
  },
  {
   "cell_type": "code",
   "execution_count": 94,
   "id": "ff6d09a9-acee-409d-be33-ec27c9b3a532",
   "metadata": {},
   "outputs": [
    {
     "data": {
      "text/plain": [
       "'This is my math class'"
      ]
     },
     "execution_count": 94,
     "metadata": {},
     "output_type": "execute_result"
    }
   ],
   "source": [
    "school.math_class()"
   ]
  },
  {
   "cell_type": "code",
   "execution_count": 95,
   "id": "69254cef-e741-4ecd-8f64-e81be11f775d",
   "metadata": {},
   "outputs": [
    {
     "data": {
      "text/plain": [
       "'This is my science class'"
      ]
     },
     "execution_count": 95,
     "metadata": {},
     "output_type": "execute_result"
    }
   ],
   "source": [
    "school.science_class()"
   ]
  },
  {
   "cell_type": "code",
   "execution_count": null,
   "id": "219e8667-191a-4b9d-9e40-21050024f56a",
   "metadata": {},
   "outputs": [],
   "source": [
    "#Q4. What are getter and setter in python? Create a class and create a getter and a setter method in this class."
   ]
  },
  {
   "cell_type": "code",
   "execution_count": null,
   "id": "63b215a8-62a5-4c5f-a075-ea487dd97731",
   "metadata": {},
   "outputs": [],
   "source": [
    "#Getter and setter in Python are methods that allow you to control the access and modification of attributes of a class. They are often used to add validation logic or ensure data encapsulation. In Python, we can use the @property decorator to create getters and setters in a Pythonic way"
   ]
  },
  {
   "cell_type": "code",
   "execution_count": 96,
   "id": "d2511a8f-97a7-4789-995c-25629f4ff899",
   "metadata": {},
   "outputs": [],
   "source": [
    "class Person:\n",
    "    def __init__(self, name, age):\n",
    "        self.name = name\n",
    "        self._age = age # _age is a private attribute\n",
    "\n",
    "    @property\n",
    "    def age(self): # age is a getter method\n",
    "        return self._age\n",
    "\n",
    "    @age.setter\n",
    "    def age(self, value): # age is a setter method\n",
    "        if value < 0:\n",
    "            print(\"age can't be negative\")\n",
    "        else:\n",
    "            self._age = value"
   ]
  },
  {
   "cell_type": "code",
   "execution_count": 97,
   "id": "89f7b6d7-5b5b-4af1-8ee2-f772626249d5",
   "metadata": {},
   "outputs": [
    {
     "name": "stdout",
     "output_type": "stream",
     "text": [
      "25\n"
     ]
    }
   ],
   "source": [
    "p1 = Person(\"Alice\", 25)\n",
    "print(p1.age)"
   ]
  },
  {
   "cell_type": "code",
   "execution_count": 98,
   "id": "46e45ec4-efaf-4923-a94b-d088c8ec3160",
   "metadata": {},
   "outputs": [
    {
     "name": "stdout",
     "output_type": "stream",
     "text": [
      "age can't be negative\n"
     ]
    }
   ],
   "source": [
    "p1.age = -10"
   ]
  },
  {
   "cell_type": "code",
   "execution_count": null,
   "id": "73023254-c37f-4c18-b247-e159ebaa89a6",
   "metadata": {},
   "outputs": [],
   "source": [
    "#Q5.What is method overriding in python? Write a python code to demonstrate method overriding."
   ]
  },
  {
   "cell_type": "code",
   "execution_count": null,
   "id": "57aff5e5-cbe9-4f90-a647-51fe7beb6a16",
   "metadata": {},
   "outputs": [],
   "source": [
    "# Method overriding in Python is an OOPs concept that allows a child class to provide a specific implementation of a method that is already provided by the parent class. It is used to change the behavior of existing methods and it is an example of runtime polymorphism. Method overriding requires inheritance and the child class method should have the same name, parameters and return type as the parent class method"
   ]
  },
  {
   "cell_type": "code",
   "execution_count": null,
   "id": "d77cdcfc-6b16-430e-9681-62637f545aa1",
   "metadata": {},
   "outputs": [],
   "source": [
    "#In simple terms, method overriding in Python means that a child class can change how a method works compared to the parent class. For example, if the parent class has a method called sound that prints “Animal makes a sound”, the child class can override this method and print something else, like “Dog barks” or “Cat meows”."
   ]
  },
  {
   "cell_type": "code",
   "execution_count": 99,
   "id": "0f3d2e42-16c1-4a2e-a734-df9b22089474",
   "metadata": {},
   "outputs": [
    {
     "name": "stdout",
     "output_type": "stream",
     "text": [
      "Animal makes a sound\n",
      "Dog barks\n",
      "Cat meows\n"
     ]
    }
   ],
   "source": [
    "class Animal: \n",
    "    def sound(self):\n",
    "        print(\"Animal makes a sound\")\n",
    "\n",
    "class Dog(Animal): \n",
    "    def sound(self): \n",
    "        print(\"Dog barks\")\n",
    "\n",
    "class Cat(Animal):\n",
    "    def sound(self): \n",
    "        print(\"Cat meows\")\n",
    "\n",
    "a1 = Animal()\n",
    "a1.sound() \n",
    "\n",
    "d1 = Dog()\n",
    "d1.sound()\n",
    "\n",
    "c1 = Cat()\n",
    "c1.sound() "
   ]
  },
  {
   "cell_type": "code",
   "execution_count": null,
   "id": "2a2e193f-8a1a-4c18-9495-52563c635faf",
   "metadata": {},
   "outputs": [],
   "source": []
  },
  {
   "cell_type": "code",
   "execution_count": null,
   "id": "b3b1406e-755d-4a1b-9a31-8e411d86d86d",
   "metadata": {},
   "outputs": [],
   "source": []
  },
  {
   "cell_type": "code",
   "execution_count": null,
   "id": "943805e8-de86-4eb1-8359-0376415d01a8",
   "metadata": {},
   "outputs": [],
   "source": []
  },
  {
   "cell_type": "code",
   "execution_count": null,
   "id": "cfeda0c0-d9fe-4f9e-a90e-4ccec9226b87",
   "metadata": {},
   "outputs": [],
   "source": []
  }
 ],
 "metadata": {
  "kernelspec": {
   "display_name": "Python 3 (ipykernel)",
   "language": "python",
   "name": "python3"
  },
  "language_info": {
   "codemirror_mode": {
    "name": "ipython",
    "version": 3
   },
   "file_extension": ".py",
   "mimetype": "text/x-python",
   "name": "python",
   "nbconvert_exporter": "python",
   "pygments_lexer": "ipython3",
   "version": "3.10.8"
  }
 },
 "nbformat": 4,
 "nbformat_minor": 5
}
