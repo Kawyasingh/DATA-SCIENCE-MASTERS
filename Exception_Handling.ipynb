{
 "cells": [
  {
   "cell_type": "code",
   "execution_count": null,
   "id": "7ff648cd-0817-4a24-bd79-2e1d5250ce50",
   "metadata": {},
   "outputs": [],
   "source": [
    "Q1. What is an Exception in Python? write the difference between Exceptions ans Syntax errors."
   ]
  },
  {
   "cell_type": "code",
   "execution_count": null,
   "id": "8b232dea-76f7-4858-84f5-aea562f5bf5d",
   "metadata": {},
   "outputs": [],
   "source": [
    "In Python, an exception is an event that occurs during the execution of a program that disrupts the normal flow of instructions. When an exception occurs, the program execution is immediately halted, and the control is transferred to an exception handler.\n",
    "\n",
    "Exceptions in Python are objects that represent errors or exceptional conditions. They are used to handle and manage unexpected or exceptional situations that may occur during the execution of a program.\n",
    "\n",
    "Here are some key points about exceptions in Python:\n",
    "\n",
    "   * Exception Handling: Exception handling is the process of dealing with exceptions that occur during program execution. It allows the program to handle errors gracefully and continue its execution instead of abruptly terminating.\n",
    "\n",
    "   *Types of Exceptions: Python provides a variety of built-in exception classes for handling different types of errors or exceptional situations. Some common exception types include TypeError, ValueError, FileNotFoundError, IndexError, KeyError, and ZeroDivisionError, among others.\n",
    "\n",
    "    *Exception Handling Mechanism: The exception handling mechanism in Python involves the use of the try, except, else, and finally blocks. The try block is used to enclose the code that may raise an exception. The except block is used to catch and handle specific exceptions. The else block is executed if no exceptions occur. The finally block is executed regardless of whether an exception occurred or not.\n",
    "\n",
    "    *Raising Exceptions: In addition to handling built-in exceptions, you can also raise your own exceptions using the raise statement. This allows you to create custom exceptions to handle specific scenarios or errors in your program.\n",
    "\n",
    "    *Difference between Exceptions and Syntax Errors: Exceptions occur during the runtime of a program when an error or exceptional condition is encountered. Syntax errors, on the other hand, occur during the parsing or interpretation of the code when there is a violation of the language syntax rules. Syntax errors are typically detected before the program is executed and need to be fixed in the code.\n",
    "\n",
    "In summary, exceptions in Python are used to handle and manage errors or exceptional situations that occur during program execution. They provide a mechanism to gracefully handle errors, recover from exceptional conditions, and ensure the smooth execution of the program"
   ]
  },
  {
   "cell_type": "code",
   "execution_count": null,
   "id": "45416403-25b5-43fd-84b4-69a91d1f74e2",
   "metadata": {},
   "outputs": [],
   "source": [
    "Q2. what happens when an exception is not handled? Explain with an example."
   ]
  },
  {
   "cell_type": "code",
   "execution_count": null,
   "id": "04fd98a1-dd28-4c5f-ab75-7293239da663",
   "metadata": {},
   "outputs": [],
   "source": [
    "When an exception is not handled in a program, it results in the termination of the program and an error message is displayed. This abrupt termination occurs because the exception propagates up the call stack until it reaches the top-level of the program, where there is no exception handler to catch and handle it.\n",
    "\n",
    "Here's an example to illustrate what happens when an exception is not handled:\n"
   ]
  },
  {
   "cell_type": "code",
   "execution_count": null,
   "id": "32b49549-c7f3-4567-868e-4360c22621dd",
   "metadata": {},
   "outputs": [],
   "source": [
    "def divide_numbers(a, b):\n",
    "    result = a / b\n",
    "    return result\n",
    "\n",
    "# Main program\n",
    "num1 = 10\n",
    "num2 = 0\n",
    "\n",
    "result = divide_numbers(num1, num2)\n",
    "print(\"Result:\", result)\n",
    "\n",
    "# ZeroDivisionError: division by zero"
   ]
  },
  {
   "cell_type": "code",
   "execution_count": null,
   "id": "d84b5bba-50eb-4112-a6c7-961637ad9d2c",
   "metadata": {},
   "outputs": [],
   "source": [
    "Q3. Which python statements used to catch and handle exceptions? Explain with an example."
   ]
  },
  {
   "cell_type": "code",
   "execution_count": null,
   "id": "fffffbf7-c833-498f-98b0-2a23bb10f1b0",
   "metadata": {},
   "outputs": [],
   "source": [
    "In Python, the try and except statements are used to catch and handle exceptions. The try block is used to enclose the code that may raise an exception, and the except block is used to specify the actions to be taken when a specific exception occurs.\n",
    "\n",
    "Here's an example to demonstrate the usage of try and except statements:\n"
   ]
  },
  {
   "cell_type": "code",
   "execution_count": 1,
   "id": "1e195865-e042-47fd-9e10-0d2b8a5f2ecd",
   "metadata": {},
   "outputs": [
    {
     "name": "stdout",
     "output_type": "stream",
     "text": [
      "Error: Division by zero is not allowed!\n"
     ]
    }
   ],
   "source": [
    "\n",
    "\n",
    "def divide_numbers(a, b):\n",
    "    try:\n",
    "        result = a / b\n",
    "        print(\"Result:\", result)\n",
    "    except ZeroDivisionError:\n",
    "        print(\"Error: Division by zero is not allowed!\")\n",
    "\n",
    "# Main program\n",
    "num1 = 10\n",
    "num2 = 0\n",
    "\n",
    "divide_numbers(num1, num2)\n",
    "\n"
   ]
  },
  {
   "cell_type": "code",
   "execution_count": null,
   "id": "9463dad7-9b6f-483e-bbff-f283dd9c53a6",
   "metadata": {},
   "outputs": [],
   "source": [
    "Q4. Explain with an example:\n",
    "    a. try and else b. finally c. rais"
   ]
  },
  {
   "cell_type": "code",
   "execution_count": null,
   "id": "211e7cbe-1eae-4dd6-814d-a2f374603670",
   "metadata": {},
   "outputs": [],
   "source": [
    "a. try and else: The else block in Python is used in conjunction with the try block to specify the code that should be executed if no exceptions occur. It provides a way to define a block of code that will run only if the try block does not raise any exceptions.\n",
    "\n",
    "Here's an example to illustrate the usage of try, except, and else:"
   ]
  },
  {
   "cell_type": "code",
   "execution_count": 2,
   "id": "f7d915b3-b852-4234-ad07-b601b0cee62f",
   "metadata": {},
   "outputs": [
    {
     "name": "stdout",
     "output_type": "stream",
     "text": [
      "Result: 5.0\n"
     ]
    }
   ],
   "source": [
    "def divide_numbers(a, b):\n",
    "    try:\n",
    "        result = a / b\n",
    "    except ZeroDivisionError:\n",
    "        print(\"Error: Division by zero is not allowed!\")\n",
    "    else:\n",
    "        print(\"Result:\", result)\n",
    "\n",
    "# Main program\n",
    "num1 = 10\n",
    "num2 = 2\n",
    "\n",
    "divide_numbers(num1, num2)"
   ]
  },
  {
   "cell_type": "code",
   "execution_count": null,
   "id": "cc06325a-88b9-42f1-8faa-5b5ff9309951",
   "metadata": {},
   "outputs": [],
   "source": [
    "b. finally: The finally block in Python is used to define a block of code that will always execute, regardless of whether an exception occurs or not. It is generally used to perform cleanup actions or release resources, such as closing a file or releasing a database connection.\n",
    "\n",
    "Here's an example to demonstrate the usage of try, except, and finally"
   ]
  },
  {
   "cell_type": "code",
   "execution_count": 3,
   "id": "b50dfae9-21e0-41b1-8814-7b46be0b1014",
   "metadata": {},
   "outputs": [
    {
     "name": "stdout",
     "output_type": "stream",
     "text": [
      "Error: Division by zero is not allowed!\n",
      "Division operation completed.\n"
     ]
    }
   ],
   "source": [
    "def divide_numbers(a, b):\n",
    "    try:\n",
    "        result = a / b\n",
    "        print(\"Result:\", result)\n",
    "    except ZeroDivisionError:\n",
    "        print(\"Error: Division by zero is not allowed!\")\n",
    "    finally:\n",
    "        print(\"Division operation completed.\")\n",
    "\n",
    "# Main program\n",
    "num1 = 10\n",
    "num2 = 0\n",
    "\n",
    "divide_numbers(num1, num2)"
   ]
  },
  {
   "cell_type": "code",
   "execution_count": null,
   "id": "1a65e1bc-f55a-4f18-acc6-6368d7eebdda",
   "metadata": {},
   "outputs": [],
   "source": [
    "c. raise: The raise keyword in Python is used to explicitly raise an exception. It allows you to create custom exceptions or raise built-in exceptions based on certain conditions or criteria.\n",
    "\n",
    "Here's an example to demonstrate the usage of raise"
   ]
  },
  {
   "cell_type": "code",
   "execution_count": null,
   "id": "41f3727e-5729-43b2-bfa5-61ee365d354f",
   "metadata": {},
   "outputs": [],
   "source": [
    "def check_age(age):\n",
    "    if age < 18:\n",
    "        raise ValueError(\"Invalid age. Age must be greater than or equal to 18.\")\n",
    "    else:\n",
    "        print(\"Age is valid.\")\n",
    "\n",
    "# Main program\n",
    "age = 15\n",
    "\n",
    "try:\n",
    "    check_age(age)\n",
    "except ValueError as e:\n",
    "    print(str(e))"
   ]
  },
  {
   "cell_type": "code",
   "execution_count": null,
   "id": "be8af91e-28fd-4f4d-83e0-9f562275bd76",
   "metadata": {},
   "outputs": [],
   "source": [
    "Q5. What are Custom Exceptions in Python? Why do we need Custom Exceptions? Expalin with an example."
   ]
  },
  {
   "cell_type": "code",
   "execution_count": null,
   "id": "2bb2e353-21de-40c3-bb33-44b19cd9d66c",
   "metadata": {},
   "outputs": [],
   "source": [
    "Custom exceptions in Python are user-defined exceptions that allow you to create your own exception classes based on specific requirements or scenarios. These exceptions can be raised and handled like built-in exceptions in Python.\n",
    "\n",
    "We need custom exceptions in Python to handle specific error conditions that may arise in our programs. By creating custom exceptions, we can provide more meaningful and descriptive error messages to users, and handle exceptional situations in a more structured and organized manner.\n",
    "\n",
    "Here's a short and simple example that demonstrates the use of a custom exception:\n"
   ]
  },
  {
   "cell_type": "code",
   "execution_count": 4,
   "id": "11bce6dc-5b53-4f41-af81-b8b969df0e9e",
   "metadata": {},
   "outputs": [
    {
     "name": "stdout",
     "output_type": "stream",
     "text": [
      "Error: Input cannot be a negative number.\n"
     ]
    }
   ],
   "source": [
    "class InvalidInputError(Exception):\n",
    "    pass\n",
    "\n",
    "\n",
    "def calculate_square_root(number):\n",
    "    if number < 0:\n",
    "        raise InvalidInputError(\"Input cannot be a negative number.\")\n",
    "    else:\n",
    "        return number ** 0.5\n",
    "\n",
    "\n",
    "# Main program\n",
    "try:\n",
    "    result = calculate_square_root(-9)\n",
    "    print(\"Square root:\", result)\n",
    "except InvalidInputError as e:\n",
    "    print(\"Error:\", str(e))"
   ]
  },
  {
   "cell_type": "code",
   "execution_count": null,
   "id": "f7eaf04f-8c56-420b-b4af-d89a2fceedaf",
   "metadata": {},
   "outputs": [],
   "source": []
  },
  {
   "cell_type": "code",
   "execution_count": null,
   "id": "f237fa18-0783-4147-8d01-5c5f00c3a516",
   "metadata": {},
   "outputs": [],
   "source": []
  },
  {
   "cell_type": "code",
   "execution_count": null,
   "id": "7a69d94b-fcf6-448c-b2f8-aa52cc848ed5",
   "metadata": {},
   "outputs": [],
   "source": []
  },
  {
   "cell_type": "code",
   "execution_count": null,
   "id": "f5c2675b-07d0-40c9-9fdf-a75a5109a2a1",
   "metadata": {},
   "outputs": [],
   "source": []
  },
  {
   "cell_type": "code",
   "execution_count": null,
   "id": "608272e9-8fb5-4b8a-ac8d-8de9a086dc45",
   "metadata": {},
   "outputs": [],
   "source": []
  },
  {
   "cell_type": "code",
   "execution_count": null,
   "id": "d3642aad-7776-4731-9e2b-b3148ed92ef2",
   "metadata": {},
   "outputs": [],
   "source": []
  },
  {
   "cell_type": "code",
   "execution_count": null,
   "id": "a0ee0c09-38de-4eb2-8528-953b785cb6e0",
   "metadata": {},
   "outputs": [],
   "source": []
  },
  {
   "cell_type": "code",
   "execution_count": null,
   "id": "0b62e1c3-9ed1-4adf-9852-1e9f71f20d27",
   "metadata": {},
   "outputs": [],
   "source": []
  },
  {
   "cell_type": "code",
   "execution_count": null,
   "id": "aeb61366-758a-4652-9887-979e3c802464",
   "metadata": {},
   "outputs": [],
   "source": []
  },
  {
   "cell_type": "code",
   "execution_count": null,
   "id": "4b918589-d8e7-4d07-bc6d-b03fb7c3da82",
   "metadata": {},
   "outputs": [],
   "source": []
  }
 ],
 "metadata": {
  "kernelspec": {
   "display_name": "Python 3 (ipykernel)",
   "language": "python",
   "name": "python3"
  },
  "language_info": {
   "codemirror_mode": {
    "name": "ipython",
    "version": 3
   },
   "file_extension": ".py",
   "mimetype": "text/x-python",
   "name": "python",
   "nbconvert_exporter": "python",
   "pygments_lexer": "ipython3",
   "version": "3.10.8"
  }
 },
 "nbformat": 4,
 "nbformat_minor": 5
}
