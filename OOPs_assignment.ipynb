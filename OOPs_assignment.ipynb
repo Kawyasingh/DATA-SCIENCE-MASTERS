{
 "cells": [
  {
   "cell_type": "code",
   "execution_count": null,
   "id": "96be6287-f1b8-41df-83c3-9ac715ace6b4",
   "metadata": {},
   "outputs": [],
   "source": [
    "#Q1. Explain Class and Object with respect to Object-Oriented Programming. Give a suitable example."
   ]
  },
  {
   "cell_type": "code",
   "execution_count": null,
   "id": "12086e77-b940-4361-8ae8-e9656bc5fe49",
   "metadata": {},
   "outputs": [],
   "source": [
    "Ans: Class: In object-oriented programming, a class is a blueprint or a template for creating objects (an instance of the class).\n",
    "It defines a set of attributes and behaviors that an object of that class will have. A class can be considered as a blueprint for\n",
    "the object or objects that can be created using it."
   ]
  },
  {
   "cell_type": "code",
   "execution_count": null,
   "id": "b0d56c6b-3d02-4d84-a212-cec7a1e6ba82",
   "metadata": {},
   "outputs": [],
   "source": [
    "bject: An object is an instance of a class. It is a real-world entity with attributes and behaviors that are defined by the class.\n",
    "An object has a state and a behavior, and it is created from a class. An object is also known as an instance of a class."
   ]
  },
  {
   "cell_type": "code",
   "execution_count": null,
   "id": "e10ba67c-c83e-4473-88c1-b1bfe23ffc5c",
   "metadata": {},
   "outputs": [],
   "source": []
  },
  {
   "cell_type": "code",
   "execution_count": null,
   "id": "ceb82494-37d2-4c1c-a911-ccb55f87f1fb",
   "metadata": {},
   "outputs": [],
   "source": [
    "Q2. Name the four pillars of OOPs."
   ]
  },
  {
   "cell_type": "code",
   "execution_count": null,
   "id": "e3e6e969-c6ed-43f3-b515-e9b0d918ff4c",
   "metadata": {},
   "outputs": [],
   "source": [
    "Ans: The four pillars of object-oriented programming (OOP) are:"
   ]
  },
  {
   "cell_type": "code",
   "execution_count": null,
   "id": "d7a206e3-8d52-4195-9eff-9d04f4053939",
   "metadata": {},
   "outputs": [],
   "source": [
    "Abstraction: Abstraction refers to the practice of exposing only the relevant information and hiding the complexity of the implementation.\n",
    "It allows the user to focus on what the object does rather than how it does it.\n",
    "\n",
    "Encapsulation: Encapsulation is the mechanism of wrapping the data (variables) and functions that operate on that data within a single unit or object.\n",
    "This protects the data from accidental corruption and provides a secure way to access the data.\n",
    "\n",
    "Inheritance: Inheritance is a mechanism where a new class can be derived from an existing class.\n",
    "The derived class inherits all the attributes and behaviors of the parent class and can also have its own attributes and behaviors.\n",
    "\n",
    "Polymorphism: Polymorphism is the ability of an object to take on multiple forms.\n",
    "This is achieved in OOP by defining methods with the same name in different classes that are related by inheritance.\n",
    "When a method is called on an object, the correct implementation of that method is executed based on the object's actual class."
   ]
  },
  {
   "cell_type": "code",
   "execution_count": null,
   "id": "7e7707a4-0a59-4924-b503-49a46018e115",
   "metadata": {},
   "outputs": [],
   "source": []
  },
  {
   "cell_type": "code",
   "execution_count": null,
   "id": "410733b9-048e-417d-aec3-4e90ba6d679d",
   "metadata": {},
   "outputs": [],
   "source": [
    "Q3. Explain why the init() function is used. Give a suitable example."
   ]
  },
  {
   "cell_type": "code",
   "execution_count": null,
   "id": "255157e6-79da-44c8-bdcb-a1a85ca21c82",
   "metadata": {},
   "outputs": [],
   "source": [
    "Ans: The init() function is used in object-oriented programming to initialize the attributes of an object at the time of its creation.\n",
    "It is a special method that is automatically called when an object is created from a class. The init() method is also known as a constructor."
   ]
  },
  {
   "cell_type": "code",
   "execution_count": 1,
   "id": "2f26b260-6f18-4c2c-a128-928f6a5d5d9b",
   "metadata": {},
   "outputs": [
    {
     "name": "stdout",
     "output_type": "stream",
     "text": [
      "saurabh\n",
      "4092\n"
     ]
    }
   ],
   "source": [
    "class student:\n",
    "    def __init__(self,name,id):\n",
    "        self.name = name\n",
    "        self.id = id\n",
    "\n",
    "    def getDetails(self):\n",
    "        return self.name, self.id\n",
    "\n",
    "student = student(\"saurabh\", 4092)\n",
    "print(student.name)\n",
    "print(student.id)"
   ]
  },
  {
   "cell_type": "code",
   "execution_count": null,
   "id": "50df062e-b6c8-4df8-8dd5-a1c530c51661",
   "metadata": {},
   "outputs": [],
   "source": []
  },
  {
   "cell_type": "code",
   "execution_count": null,
   "id": "1185217e-7322-4b22-bf20-29fb7396c356",
   "metadata": {},
   "outputs": [],
   "source": [
    "Q4. Why self is used in OOPs?"
   ]
  },
  {
   "cell_type": "code",
   "execution_count": null,
   "id": "d7df2e64-9054-4a3c-ab88-4f8101d5fe0b",
   "metadata": {},
   "outputs": [],
   "source": [
    "Ans: In object-oriented programming (OOP), self is used to refer to the instance of the object being manipulated within a method.\n",
    "It is a convention in Python (and some other programming languages) to use self as the first argument in an instance method to refer to the instance of the object."
   ]
  },
  {
   "cell_type": "code",
   "execution_count": null,
   "id": "85d97b42-9ce4-4c1d-a02c-4958af89b829",
   "metadata": {},
   "outputs": [],
   "source": []
  },
  {
   "cell_type": "code",
   "execution_count": null,
   "id": "5dec0d5d-1b33-47e8-a5ee-5ab3215b8b02",
   "metadata": {},
   "outputs": [],
   "source": [
    "Q5. What is inheritance? Give an example for each type of inheritance."
   ]
  },
  {
   "cell_type": "code",
   "execution_count": null,
   "id": "8897fdd3-8482-4c13-917b-64c831f3a6b7",
   "metadata": {},
   "outputs": [],
   "source": [
    "Ans: Inheritance is a mechanism in object-oriented programming (OOP) that allows a new class to be derived from an existing class.\n",
    "The derived class inherits all the attributes and behaviors of the parent class and can also have its own attributes and behaviors. Inheritance enables code reuse and makes it easier to create and maintain large, complex systems.\n",
    "\n",
    "There are several types of inheritanch\n",
    "\n",
    "1. singal inheritance\n",
    "2.multiple inheritance\n",
    "3.multilevel inheritance\n"
   ]
  },
  {
   "cell_type": "code",
   "execution_count": null,
   "id": "f4a9ba6b-78f6-49a7-b8e4-4e71c842aa9c",
   "metadata": {},
   "outputs": [],
   "source": [
    "1. singal inheritance"
   ]
  },
  {
   "cell_type": "code",
   "execution_count": 4,
   "id": "3e0c58d1-54ca-4b3a-b8d8-199da29ec603",
   "metadata": {},
   "outputs": [
    {
     "name": "stdout",
     "output_type": "stream",
     "text": [
      "I am a Data science student\n"
     ]
    }
   ],
   "source": [
    "class student:\n",
    "    college = \"iit\"\n",
    "    def showDetails (self):\n",
    "        print(\"I am a Data science student\")\n",
    "\n",
    "class programmer(student):\n",
    "    language = \"python\"\n",
    "\n",
    "    def getDetails(self):\n",
    "        print(f\"the language is {self.language}\")\n",
    "\n",
    "s = student()\n",
    "pr = programmer()\n",
    "# s.showDetails()\n",
    "pr.showDetails()"
   ]
  },
  {
   "cell_type": "code",
   "execution_count": null,
   "id": "6d6da82c-f93a-4bbb-87c8-61234787fd17",
   "metadata": {},
   "outputs": [],
   "source": [
    "2.multiple inheritance"
   ]
  },
  {
   "cell_type": "code",
   "execution_count": 5,
   "id": "79ef59db-fc0c-435a-a152-94a4bba38b45",
   "metadata": {},
   "outputs": [
    {
     "name": "stdout",
     "output_type": "stream",
     "text": [
      "2\n"
     ]
    }
   ],
   "source": [
    "class Developer:\n",
    "    language =  \"Html , css ,js\"\n",
    "    level = 1\n",
    "\n",
    "class programmer:\n",
    "    language = \"python\"\n",
    "    star = 4\n",
    "\n",
    "    def upgrade(self):\n",
    "        self.level = self.level +1\n",
    "\n",
    "class student(programmer,Developer):\n",
    "    name = \"saurabh\"\n",
    "\n",
    "stu = student()\n",
    "stu.upgrade()\n",
    "print(stu.level)"
   ]
  },
  {
   "cell_type": "code",
   "execution_count": null,
   "id": "2bb927dd-6c4c-42b6-8c72-4be4e33014ef",
   "metadata": {},
   "outputs": [],
   "source": [
    "3.multilevel inheritance"
   ]
  },
  {
   "cell_type": "code",
   "execution_count": 6,
   "id": "1d30c83b-4bb8-4aa1-a3bb-67e3dec010f7",
   "metadata": {},
   "outputs": [
    {
     "name": "stdout",
     "output_type": "stream",
     "text": [
      "i need a break...\n",
      "No salery\n"
     ]
    }
   ],
   "source": [
    "class Itclass:\n",
    "    language =  \"Html , css ,js\"\n",
    "\n",
    "    def takebreak(self):\n",
    "        print(\"i need a break...\")\n",
    "\n",
    "class Student(Itclass):\n",
    "    language = \"python\"\n",
    "\n",
    "    def getSalery(self):\n",
    "        print(\"I am waiting for my salery\")\n",
    "\n",
    "\n",
    "class programmer(Student):\n",
    "    language = \"c/c++\"\n",
    "\n",
    "    def getsalery(self):\n",
    "        print(\"No salery\")\n",
    "\n",
    "it = Itclass()\n",
    "st = Student()\n",
    "it.takebreak()\n",
    "pr = programmer()\n",
    "pr.getsalery()"
   ]
  },
  {
   "cell_type": "code",
   "execution_count": null,
   "id": "9e0ea066-5753-4f5a-bc9a-edcaec2c0282",
   "metadata": {},
   "outputs": [],
   "source": []
  },
  {
   "cell_type": "code",
   "execution_count": null,
   "id": "c491a68a-b96b-4e1e-bdc6-ee321d483b98",
   "metadata": {},
   "outputs": [],
   "source": []
  },
  {
   "cell_type": "code",
   "execution_count": null,
   "id": "0918fa3e-70a4-40c9-b456-bc9c2d8e85f0",
   "metadata": {},
   "outputs": [],
   "source": []
  },
  {
   "cell_type": "code",
   "execution_count": null,
   "id": "df52be51-149e-4c7e-a764-cc03625381ca",
   "metadata": {},
   "outputs": [],
   "source": []
  },
  {
   "cell_type": "code",
   "execution_count": null,
   "id": "f29b0605-bca6-4054-8639-91ca37c43fb4",
   "metadata": {},
   "outputs": [],
   "source": []
  },
  {
   "cell_type": "code",
   "execution_count": null,
   "id": "59871e42-4da7-487f-8f1d-93ef18ee8c53",
   "metadata": {},
   "outputs": [],
   "source": []
  },
  {
   "cell_type": "code",
   "execution_count": null,
   "id": "98ccb2d3-2aad-485e-8392-7b7cc0d2b057",
   "metadata": {},
   "outputs": [],
   "source": []
  },
  {
   "cell_type": "code",
   "execution_count": null,
   "id": "eb8825d2-236e-44f4-bb59-a777a5da8700",
   "metadata": {},
   "outputs": [],
   "source": []
  },
  {
   "cell_type": "code",
   "execution_count": null,
   "id": "bb7a3fb2-8dad-4a0b-a092-41e32065a728",
   "metadata": {},
   "outputs": [],
   "source": []
  },
  {
   "cell_type": "code",
   "execution_count": null,
   "id": "b7f282d6-0eb9-49e0-984f-9cdc123bde90",
   "metadata": {},
   "outputs": [],
   "source": []
  },
  {
   "cell_type": "code",
   "execution_count": null,
   "id": "481e24d6-cdf0-44da-a050-2ab69c1ac3b4",
   "metadata": {},
   "outputs": [],
   "source": []
  },
  {
   "cell_type": "code",
   "execution_count": null,
   "id": "0acfeee4-c145-48f0-9e13-d67d03c0660e",
   "metadata": {},
   "outputs": [],
   "source": []
  },
  {
   "cell_type": "code",
   "execution_count": null,
   "id": "9b12ad0a-af6e-4870-9e43-997cf3bdb157",
   "metadata": {},
   "outputs": [],
   "source": []
  }
 ],
 "metadata": {
  "kernelspec": {
   "display_name": "Python 3 (ipykernel)",
   "language": "python",
   "name": "python3"
  },
  "language_info": {
   "codemirror_mode": {
    "name": "ipython",
    "version": 3
   },
   "file_extension": ".py",
   "mimetype": "text/x-python",
   "name": "python",
   "nbconvert_exporter": "python",
   "pygments_lexer": "ipython3",
   "version": "3.10.8"
  }
 },
 "nbformat": 4,
 "nbformat_minor": 5
}
